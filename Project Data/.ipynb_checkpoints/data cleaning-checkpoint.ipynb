{
 "cells": [
  {
   "cell_type": "code",
   "execution_count": 52,
   "id": "69238bc0",
   "metadata": {},
   "outputs": [],
   "source": [
    "import pandas as pd"
   ]
  },
  {
   "cell_type": "code",
   "execution_count": 53,
   "id": "7abc2839",
   "metadata": {},
   "outputs": [],
   "source": [
    "df_2015 = pd.read_csv(\"2015.csv\")\n",
    "df_2016 = pd.read_csv(\"2016.csv\")\n",
    "df_2017 = pd.read_csv(\"2017.csv\")\n",
    "df_2018 = pd.read_csv(\"2018.csv\")\n",
    "df_2019 = pd.read_csv(\"2019.csv\")\n"
   ]
  },
  {
   "cell_type": "code",
   "execution_count": 55,
   "id": "247950d3",
   "metadata": {},
   "outputs": [],
   "source": [
    "# DROP EXCESS COLUMNS\n",
    "\n",
    "df_2015 = df_2015.drop(columns=[\"Standard Error\", \"Family\", \"Freedom\", \"Trust (Government Corruption)\", \"Generosity\", \"Dystopia Residual\"])\n",
    "df_2016 = df_2016.drop(columns=[\"Lower Confidence Interval\",\"Upper Confidence Interval\", \"Family\", \"Freedom\", \"Generosity\", \"Dystopia Residual\", \"Trust (Government Corruption)\"])\n",
    "df_2017 = df_2017.drop(columns=[\"Whisker.high\",\"Whisker.low\", \"Family\", \"Freedom\", \"Generosity\",\"Trust..Government.Corruption.\",\"Dystopia.Residual\"])\n",
    "df_2018 = df_2018.drop(columns=[\"Social support\",\"Freedom to make life choices\", \"Generosity\", \"Perceptions of corruption\"])\n",
    "df_2019 = df_2019.drop(columns=[\"Social support\",\"Freedom to make life choices\", \"Generosity\", \"Perceptions of corruption\"])\n"
   ]
  },
  {
   "cell_type": "code",
   "execution_count": 56,
   "id": "43d4022c",
   "metadata": {},
   "outputs": [],
   "source": [
    "# RENAME COLUMNS\n",
    "\n",
    "df_2015.rename(columns = {\n",
    "    'Happiness Rank':'Overall rank',\n",
    "    \"Happiness Score\":\"Happiness Score\",\n",
    "    \"Health (Life Expectancy)\":\"Life Expectancy\",\n",
    "    \"Economy (GDP per Capita)\":\"GDP per capita\"\n",
    "}, inplace = True)\n",
    "\n",
    "df_2016.rename(columns = {\n",
    "    'Happiness Rank':'Overall rank',\n",
    "    \"Happiness Score\":\"Happiness Score\",\n",
    "    \"Health (Life Expectancy)\":\"Life Expectancy\",\n",
    "    \"Economy (GDP per Capita)\":\"GDP per capita\"\n",
    "}, inplace = True)\n",
    "\n",
    "df_2017.rename(columns = {\n",
    "    'Happiness.Rank':'Overall rank',\n",
    "    \"Happiness.Score\":\"Happiness Score\",\n",
    "    \"Health..Life.Expectancy.\":\"Life Expectancy\",\n",
    "    \"Economy..GDP.per.Capita.\":\"GDP per capita\"\n",
    "}, inplace = True)\n",
    "\n",
    "df_2018.rename(columns = {\n",
    "    'Country or region':'Country',\n",
    "    'Happiness Rank':'Overall rank',\n",
    "    \"Score\":\"Happiness Score\",\n",
    "    \"Healthy life expectancy\":\"Life Expectancy\"}, inplace = True)\n",
    "\n",
    "df_2019.rename(columns = {\n",
    "    'Country or region':'Country',\n",
    "    'Happiness Rank':'Overall rank',\n",
    "    \"Score\":\"Happiness Score\",\n",
    "    \"Healthy life expectancy\":\"Life Expectancy\"}, inplace = True)"
   ]
  },
  {
   "cell_type": "code",
   "execution_count": 57,
   "id": "49fcc924",
   "metadata": {},
   "outputs": [],
   "source": [
    "# ADD REGION COLUMNS\n",
    "\n",
    "df_2017.insert(2, \"Region\", \"n/a\", True)\n",
    "df_2018.insert(2, \"Region\", \"n/a\", True)\n",
    "df_2019.insert(2, \"Region\", \"n/a\", True)\n"
   ]
  },
  {
   "cell_type": "code",
   "execution_count": 58,
   "id": "90c2023d",
   "metadata": {},
   "outputs": [],
   "source": [
    "# ADD YEAR COLUMNS\n",
    "\n",
    "df_2015.insert(2, \"Year\", \"2015\", True)\n",
    "df_2016.insert(2, \"Year\", \"2016\", True)\n",
    "df_2017.insert(2, \"Year\", \"2017\", True)\n",
    "df_2018.insert(2, \"Year\", \"2018\", True)\n",
    "df_2019.insert(2, \"Year\", \"2019\", True)\n"
   ]
  },
  {
   "cell_type": "code",
   "execution_count": 59,
   "id": "621cec28",
   "metadata": {},
   "outputs": [],
   "source": [
    "# REINDEX COLUMNS\n",
    "\n",
    "df_2015 = df_2015.reindex(columns= ['Country', 'Region', 'Year', 'Overall rank','Happiness Score','GDP per capita', 'Life Expectancy'])\n",
    "df_2016 = df_2016.reindex(columns= ['Country', 'Region','Year', 'Overall rank','Happiness Score','GDP per capita', 'Life Expectancy'])\n",
    "df_2017 = df_2017.reindex(columns= ['Country', 'Region','Year', 'Overall rank','Happiness Score','GDP per capita', 'Life Expectancy'])\n",
    "df_2018 = df_2018.reindex(columns= ['Country', 'Region','Year', 'Overall rank','Happiness Score','GDP per capita', 'Life Expectancy'])\n",
    "df_2019 = df_2019.reindex(columns= ['Country', 'Region','Year', 'Overall rank','Happiness Score','GDP per capita', 'Life Expectancy'])\n"
   ]
  },
  {
   "cell_type": "code",
   "execution_count": 65,
   "id": "45891fcc",
   "metadata": {},
   "outputs": [],
   "source": [
    "# decapitalise and underscore spaces\n",
    "\n",
    "df_2015.columns = df_2015.columns.str.lower().str.replace(\" \", \"_\")\n",
    "df_2016.columns = df_2016.columns.str.lower().str.replace(\" \", \"_\")\n",
    "df_2017.columns = df_2017.columns.str.lower().str.replace(\" \", \"_\")\n",
    "df_2018.columns = df_2018.columns.str.lower().str.replace(\" \", \"_\")\n",
    "df_2019.columns = df_2019.columns.str.lower().str.replace(\" \", \"_\")"
   ]
  },
  {
   "cell_type": "code",
   "execution_count": 66,
   "id": "0018a66a",
   "metadata": {},
   "outputs": [],
   "source": [
    "# create a dictionary of country and region key pairs\n",
    "\n",
    "country_region_dict = dict(zip(df_2015.country, df_2015.region))"
   ]
  },
  {
   "cell_type": "code",
   "execution_count": 71,
   "id": "54796091",
   "metadata": {},
   "outputs": [
    {
     "data": {
      "text/plain": [
       "0                       Finland\n",
       "1                       Denmark\n",
       "2                        Norway\n",
       "3                       Iceland\n",
       "4                   Netherlands\n",
       "                 ...           \n",
       "151                      Rwanda\n",
       "152                    Tanzania\n",
       "153                 Afghanistan\n",
       "154    Central African Republic\n",
       "155                 South Sudan\n",
       "Name: country, Length: 156, dtype: object"
      ]
     },
     "execution_count": 71,
     "metadata": {},
     "output_type": "execute_result"
    }
   ],
   "source": [
    "# Title capitalise the region and country columns to formalise\n",
    "\n",
    "df_2015.region.str.title()\n",
    "df_2015.country.str.title()\n",
    "\n",
    "df_2016.region.str.title()\n",
    "df_2016.country.str.title()\n",
    "\n",
    "df_2017.region.str.title()\n",
    "df_2017.country.str.title()\n",
    "\n",
    "df_2018.region.str.title()\n",
    "df_2018.country.str.title()\n",
    "\n",
    "df_2019.region.str.title()\n",
    "df_2019.country.str.title()"
   ]
  },
  {
   "cell_type": "code",
   "execution_count": 72,
   "id": "6ad62a9d",
   "metadata": {},
   "outputs": [],
   "source": [
    "# apply function to assign region values\n",
    "\n",
    "df_2015[\"region\"] = df_2015.apply(lambda row: country_region_dict.get(row[\"country\"]), axis=1)\n",
    "df_2016[\"region\"] = df_2016.apply(lambda row: country_region_dict.get(row[\"country\"]), axis=1)\n",
    "df_2017[\"region\"] = df_2017.apply(lambda row: country_region_dict.get(row[\"country\"]), axis=1)\n",
    "df_2018[\"region\"] = df_2018.apply(lambda row: country_region_dict.get(row[\"country\"]), axis=1)\n",
    "df_2019[\"region\"] = df_2019.apply(lambda row: country_region_dict.get(row[\"country\"]), axis=1)"
   ]
  },
  {
   "cell_type": "code",
   "execution_count": 97,
   "id": "0f8a39d3",
   "metadata": {},
   "outputs": [
    {
     "data": {
      "text/plain": [
       "Estonia              5\n",
       "Malawi               5\n",
       "Mauritius            5\n",
       "Georgia              5\n",
       "Togo                 5\n",
       "                    ..\n",
       "Puerto Rico          1\n",
       "Somaliland Region    1\n",
       "North Macedonia      1\n",
       "Djibouti             1\n",
       "Oman                 1\n",
       "Name: country, Length: 170, dtype: int64"
      ]
     },
     "execution_count": 97,
     "metadata": {},
     "output_type": "execute_result"
    }
   ],
   "source": [
    "# concatenate dataframes\n",
    "\n",
    "final_df = pd.concat([df_2015,df_2016,df_2017,df_2018,df_2019])"
   ]
  },
  {
   "cell_type": "code",
   "execution_count": 104,
   "id": "26014826",
   "metadata": {},
   "outputs": [
    {
     "data": {
      "text/plain": [
       "Estonia        5\n",
       "Israel         5\n",
       "Serbia         5\n",
       "Mali           5\n",
       "South Korea    5\n",
       "              ..\n",
       "Luxembourg     5\n",
       "Portugal       5\n",
       "Yemen          5\n",
       "Iraq           5\n",
       "Belgium        5\n",
       "Name: country, Length: 141, dtype: int64"
      ]
     },
     "execution_count": 104,
     "metadata": {},
     "output_type": "execute_result"
    }
   ],
   "source": [
    "# identify and remove countries that do no feature in each dataset\n",
    "\n",
    "counts = final_df['country'].value_counts()\n",
    "counts[counts > 4]\n",
    "final_df = final_df[final_df['country'].isin(counts[counts > 4].index)]\n",
    "final_df['country'].value_counts()"
   ]
  },
  {
   "cell_type": "code",
   "execution_count": 106,
   "id": "5e7338be",
   "metadata": {},
   "outputs": [],
   "source": [
    "# export to csv\n",
    "\n",
    "final_df.to_csv(r'C:\\Users\\Jtc\\Desktop\\visulisation_project_3\\global_happiness_data.csv', index=False)"
   ]
  },
  {
   "cell_type": "code",
   "execution_count": 109,
   "id": "d2f2b82f",
   "metadata": {},
   "outputs": [
    {
     "data": {
      "text/html": [
       "<div>\n",
       "<style scoped>\n",
       "    .dataframe tbody tr th:only-of-type {\n",
       "        vertical-align: middle;\n",
       "    }\n",
       "\n",
       "    .dataframe tbody tr th {\n",
       "        vertical-align: top;\n",
       "    }\n",
       "\n",
       "    .dataframe thead th {\n",
       "        text-align: right;\n",
       "    }\n",
       "</style>\n",
       "<table border=\"1\" class=\"dataframe\">\n",
       "  <thead>\n",
       "    <tr style=\"text-align: right;\">\n",
       "      <th></th>\n",
       "      <th>overall_rank</th>\n",
       "      <th>happiness_score</th>\n",
       "      <th>gdp_per_capita</th>\n",
       "      <th>life_expectancy</th>\n",
       "    </tr>\n",
       "    <tr>\n",
       "      <th>country</th>\n",
       "      <th></th>\n",
       "      <th></th>\n",
       "      <th></th>\n",
       "      <th></th>\n",
       "    </tr>\n",
       "  </thead>\n",
       "  <tbody>\n",
       "    <tr>\n",
       "      <th>Afghanistan</th>\n",
       "      <td>149.4</td>\n",
       "      <td>3.5128</td>\n",
       "      <td>0.357113</td>\n",
       "      <td>0.254707</td>\n",
       "    </tr>\n",
       "    <tr>\n",
       "      <th>Albania</th>\n",
       "      <td>106.4</td>\n",
       "      <td>4.7126</td>\n",
       "      <td>0.938633</td>\n",
       "      <td>0.787696</td>\n",
       "    </tr>\n",
       "    <tr>\n",
       "      <th>Algeria</th>\n",
       "      <td>66.2</td>\n",
       "      <td>5.6676</td>\n",
       "      <td>1.012963</td>\n",
       "      <td>0.665057</td>\n",
       "    </tr>\n",
       "    <tr>\n",
       "      <th>Argentina</th>\n",
       "      <td>31.2</td>\n",
       "      <td>6.4594</td>\n",
       "      <td>1.111035</td>\n",
       "      <td>0.760895</td>\n",
       "    </tr>\n",
       "    <tr>\n",
       "      <th>Armenia</th>\n",
       "      <td>122.8</td>\n",
       "      <td>4.3932</td>\n",
       "      <td>0.839133</td>\n",
       "      <td>0.697851</td>\n",
       "    </tr>\n",
       "  </tbody>\n",
       "</table>\n",
       "</div>"
      ],
      "text/plain": [
       "             overall_rank  happiness_score  gdp_per_capita  life_expectancy\n",
       "country                                                                    \n",
       "Afghanistan         149.4           3.5128        0.357113         0.254707\n",
       "Albania             106.4           4.7126        0.938633         0.787696\n",
       "Algeria              66.2           5.6676        1.012963         0.665057\n",
       "Argentina            31.2           6.4594        1.111035         0.760895\n",
       "Armenia             122.8           4.3932        0.839133         0.697851"
      ]
     },
     "execution_count": 109,
     "metadata": {},
     "output_type": "execute_result"
    }
   ],
   "source": [
    "# group by country and mean values - this data will be used for the map visualisation\n",
    "\n",
    "groupby = final_df.groupby(\"country\", axis=0)\n",
    "\n",
    "avg_df = groupby.mean()"
   ]
  },
  {
   "cell_type": "code",
   "execution_count": 110,
   "id": "9b8ebac9",
   "metadata": {},
   "outputs": [],
   "source": [
    "# export to csv\n",
    "\n",
    "avg_df.to_csv(r'C:\\Users\\Jtc\\Desktop\\visulisation_project_3\\global_happiness_mean_values.csv', index=False)"
   ]
  }
 ],
 "metadata": {
  "kernelspec": {
   "display_name": "Python 3 (ipykernel)",
   "language": "python",
   "name": "python3"
  },
  "language_info": {
   "codemirror_mode": {
    "name": "ipython",
    "version": 3
   },
   "file_extension": ".py",
   "mimetype": "text/x-python",
   "name": "python",
   "nbconvert_exporter": "python",
   "pygments_lexer": "ipython3",
   "version": "3.8.10"
  }
 },
 "nbformat": 4,
 "nbformat_minor": 5
}
